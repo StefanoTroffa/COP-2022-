{
 "cells": [
  {
   "cell_type": "markdown",
   "metadata": {},
   "source": [
    "Molecular Dynamics Project\n"
   ]
  },
  {
   "cell_type": "code",
   "execution_count": 1,
   "metadata": {},
   "outputs": [],
   "source": [
    "import numpy as np\n",
    "import scipy as sp\n",
    "from scipy import sparse\n",
    "from scipy.spatial import cKDTree\n",
    "import matplotlib.pyplot as plt\n",
    "import matplotlib.animation as animation\n",
    "import copy\n"
   ]
  },
  {
   "cell_type": "markdown",
   "metadata": {},
   "source": [
    "Constants of the problem"
   ]
  },
  {
   "cell_type": "code",
   "execution_count": 4,
   "metadata": {},
   "outputs": [],
   "source": [
    "sigma=1.\n",
    "N= 3\n",
    "m=1.\n",
    "L=20*sigma\n",
    "eps=2.25"
   ]
  },
  {
   "cell_type": "markdown",
   "metadata": {},
   "source": [
    "Initialize arrays for velocities and positions"
   ]
  },
  {
   "cell_type": "code",
   "execution_count": 5,
   "metadata": {},
   "outputs": [
    {
     "name": "stdout",
     "output_type": "stream",
     "text": [
      "[0 0 0]\n"
     ]
    }
   ],
   "source": [
    "#pos_x= \"x\" + string(i)\n",
    "#vel= \"v\"+ string(i)\n",
    "#pos_y= \"v\"+ string(i)\n",
    "#vel_y=\"v\" + string(i)\n",
    "pos_x=np.array([0.]*N)\n",
    "pos_y=np.array([0.]*N)\n",
    "vel_x=np.array([0.]*N)\n",
    "vel_y=np.array([0.]*N)\n",
    "forcex=np.array([0.]*N)\n",
    "forcey=np.array([0.]*N)\n",
    "    \n",
    "  \n",
    "    \n",
    "    "
   ]
  },
  {
   "cell_type": "markdown",
   "metadata": {},
   "source": [
    "Distance function"
   ]
  },
  {
   "cell_type": "code",
   "execution_count": 12,
   "metadata": {},
   "outputs": [],
   "source": [
    "def potential_grad(pos1x,pos1y,pos2x,pos2y,L):\n",
    "    deltax=0.\n",
    "    deltay=0.\n",
    "    deltax=abs(pos1x-pos2x)\n",
    "    if (L-deltax)<deltax:\n",
    "        deltax= L-deltax\n",
    "    deltay=abs(pos1y-pos2y)\n",
    "    if (L-deltay)<deltay:\n",
    "        deltay= L-deltay   \n",
    "    r=sqrt(deltax**2.+deltay**2)\n",
    "    gradforce=-24.0*eps/(r**3)(2*(sigma/r)**11 -(sigma/r)**5)\n",
    "    gradx=deltax*gradforce\n",
    "    grady=deltay*gradforce\n",
    "    grad=np.array(gradx,grady)\n",
    "    return grad"
   ]
  },
  {
   "cell_type": "markdown",
   "metadata": {},
   "source": [
    "Random initial positions and velocities"
   ]
  },
  {
   "cell_type": "code",
   "execution_count": null,
   "metadata": {},
   "outputs": [],
   "source": []
  },
  {
   "cell_type": "code",
   "execution_count": null,
   "metadata": {},
   "outputs": [],
   "source": []
  },
  {
   "cell_type": "code",
   "execution_count": null,
   "metadata": {},
   "outputs": [],
   "source": []
  }
 ],
 "metadata": {
  "kernelspec": {
   "display_name": "Python 3",
   "language": "python",
   "name": "python3"
  },
  "language_info": {
   "codemirror_mode": {
    "name": "ipython",
    "version": 3
   },
   "file_extension": ".py",
   "mimetype": "text/x-python",
   "name": "python",
   "nbconvert_exporter": "python",
   "pygments_lexer": "ipython3",
   "version": "3.8.5"
  }
 },
 "nbformat": 4,
 "nbformat_minor": 4
}
